{
 "cells": [
  {
   "cell_type": "code",
   "execution_count": 1,
   "metadata": {},
   "outputs": [],
   "source": [
    "import cv2\n",
    "from ultralytics import YOLO"
   ]
  },
  {
   "cell_type": "code",
   "execution_count": 2,
   "metadata": {},
   "outputs": [
    {
     "name": "stdout",
     "output_type": "stream",
     "text": [
      "Downloading https://github.com/ultralytics/assets/releases/download/v8.3.0/yolov8m.pt to 'X:\\Infosys_STMS\\Smart_Traffic_Management_System\\Requirements\\yolov8m.pt'...\n"
     ]
    },
    {
     "name": "stderr",
     "output_type": "stream",
     "text": [
      "100%|██████████| 49.7M/49.7M [00:07<00:00, 7.18MB/s]\n"
     ]
    }
   ],
   "source": [
    "model = YOLO(\"X:\\Infosys_STMS\\Smart_Traffic_Management_System\\Requirements\\yolov8m.pt\")"
   ]
  },
  {
   "cell_type": "code",
   "execution_count": 3,
   "metadata": {},
   "outputs": [],
   "source": [
    "# Readig video frames\n",
    "\n",
    "video = cv2.VideoCapture('X:\\Infosys_STMS\\Smart_Traffic_Management_System\\Data\\Video\\Traffic_01.mp4')\n",
    "\n",
    "# cv2.waitKey(0)\n",
    "# cv2.destroyAllWindows()"
   ]
  },
  {
   "cell_type": "code",
   "execution_count": 4,
   "metadata": {},
   "outputs": [],
   "source": [
    "if __name__ == \"__main__\": \n",
    "   \n",
    "    cap = cv2.VideoCapture('X:\\Infosys_STMS\\Smart_Traffic_Management_System\\Data\\Video\\Traffic_01.mp4') \n",
    "       \n",
    "    while (cap.isOpened()): \n",
    "        ret, img = cap.read() \n",
    "        \n",
    "        # results = model.predict(img)\n",
    "        \n",
    "\n",
    "        if ret == True: \n",
    "            cv2.imshow('original video', img) \n",
    "\n",
    "            cv2.waitKey(30)\n",
    "            cv2.destroyAllWindows()\n",
    "               \n",
    "            if cv2.waitKey(25) & 0xFF == ord('q'): \n",
    "                break\n",
    "               \n",
    "        else: \n",
    "            break\n",
    "               \n",
    "    cap.release() \n",
    "    cv2.destroyAllWindows()"
   ]
  },
  {
   "cell_type": "code",
   "execution_count": 5,
   "metadata": {},
   "outputs": [],
   "source": [
    "def read_video(video_path):\n",
    "    cap = cv2.VideoCapture(video_path)\n",
    "    frames = []\n",
    "    \n",
    "    while True:\n",
    "        ret, frame = cap.read()\n",
    "        if not ret:\n",
    "            break\n",
    "        frames.append(frame)\n",
    "\n",
    "    return frames \n",
    "\n",
    "video_frames = read_video(\"X:\\Infosys_STMS\\Smart_Traffic_Management_System\\Data\\Video\\Traffic_01.mp4\")"
   ]
  }
 ],
 "metadata": {
  "kernelspec": {
   "display_name": "Python 3",
   "language": "python",
   "name": "python3"
  },
  "language_info": {
   "codemirror_mode": {
    "name": "ipython",
    "version": 3
   },
   "file_extension": ".py",
   "mimetype": "text/x-python",
   "name": "python",
   "nbconvert_exporter": "python",
   "pygments_lexer": "ipython3",
   "version": "3.10.0"
  }
 },
 "nbformat": 4,
 "nbformat_minor": 2
}
