{
 "cells": [
  {
   "cell_type": "code",
   "execution_count": 23,
   "metadata": {},
   "outputs": [],
   "source": [
    "Path = \"X:\\\\Infosys_STMS\\\\Smart_Traffic_Management_System\\\\Data\\\\Data_Images\\\\text.png\""
   ]
  },
  {
   "cell_type": "code",
   "execution_count": 24,
   "metadata": {},
   "outputs": [],
   "source": [
    "from PIL import Image\n",
    "import pytesseract\n",
    "\n",
    "def extract_text(image_path):\n",
    "    with Image.open(image_path) as img:\n",
    "        text = pytesseract.image_to_string(img, lang='eng')\n",
    "        print(text)   "
   ]
  },
  {
   "cell_type": "code",
   "execution_count": 25,
   "metadata": {},
   "outputs": [
    {
     "name": "stdout",
     "output_type": "stream",
     "text": [
      "Project Statement:\n",
      "\n",
      "This project aims to develop an intelligent traffic management\n",
      "system using Automatic Number Plate Recognition (ANPR) and\n",
      "Automatic Traffic Classification and Control (ATCC). By leveraging\n",
      "Deep Learning and Object Detection techniques, the system will\n",
      "automate traffic monitoring and control in smart city\n",
      "environments. ANPR will detect and recognize vehicle license\n",
      "plates, while ATCC will classify different types of traffic and\n",
      "automate traffic signals accordingly. The system will improve\n",
      "traffic flow, reduce congestion, and enhance road safety.\n",
      "\n"
     ]
    }
   ],
   "source": [
    "pytesseract.pytesseract.tesseract_cmd = r\"C:\\Users\\pardh\\Tesseract-OCR\\tesseract.exe\"\n",
    "extract_text(Path)"
   ]
  },
  {
   "cell_type": "code",
   "execution_count": 26,
   "metadata": {},
   "outputs": [
    {
     "name": "stderr",
     "output_type": "stream",
     "text": [
      "Using CPU. Note: This module is much faster with a GPU.\n"
     ]
    }
   ],
   "source": [
    "import easyocr\n",
    "\n",
    "reader = easyocr.Reader(['en'], gpu=False)"
   ]
  },
  {
   "cell_type": "code",
   "execution_count": 27,
   "metadata": {},
   "outputs": [
    {
     "data": {
      "text/plain": [
       "[([[np.int32(28), np.int32(126)],\n",
       "   [np.int32(148), np.int32(126)],\n",
       "   [np.int32(148), np.int32(182)],\n",
       "   [np.int32(28), np.int32(182)]],\n",
       "  'IND',\n",
       "  np.float64(0.9999812794832843)),\n",
       " ([[np.int32(176), np.int32(42)],\n",
       "   [np.int32(1313), np.int32(42)],\n",
       "   [np.int32(1313), np.int32(259)],\n",
       "   [np.int32(176), np.int32(259)]],\n",
       "  'HB 06 F 5977',\n",
       "  np.float64(0.6577286637404085))]"
      ]
     },
     "execution_count": 27,
     "metadata": {},
     "output_type": "execute_result"
    }
   ],
   "source": [
    "Path = \"X:\\\\Infosys_STMS\\\\Smart_Traffic_Management_System\\\\Data\\\\Data_Images\\\\noplate1.png\"\n",
    "\n",
    "reader.readtext(Path)"
   ]
  },
  {
   "cell_type": "code",
   "execution_count": 28,
   "metadata": {},
   "outputs": [
    {
     "name": "stderr",
     "output_type": "stream",
     "text": [
      "Using CPU. Note: This module is much faster with a GPU.\n"
     ]
    },
    {
     "name": "stdout",
     "output_type": "stream",
     "text": [
      "[([[np.int32(28), np.int32(126)], [np.int32(148), np.int32(126)], [np.int32(148), np.int32(182)], [np.int32(28), np.int32(182)]], 'IND', np.float64(0.9999812794832843)), ([[np.int32(176), np.int32(42)], [np.int32(1313), np.int32(42)], [np.int32(1313), np.int32(259)], [np.int32(176), np.int32(259)]], 'HB 06 F 5977', np.float64(0.6577286637404085))]\n"
     ]
    }
   ],
   "source": [
    "import easyocr\n",
    "import time\n",
    "import cv2\n",
    "\n",
    "reader = easyocr.Reader(['en'], gpu=False)\n",
    "\n",
    "image1 = ('X:\\\\Infosys_STMS\\\\Smart_Traffic_Management_System\\\\Data\\\\Data_Images\\\\noplate1.png')\n",
    "\n",
    "prediction1 = reader.readtext(image1)\n",
    "\n",
    "print(prediction1)"
   ]
  }
 ],
 "metadata": {
  "kernelspec": {
   "display_name": "Python 3",
   "language": "python",
   "name": "python3"
  },
  "language_info": {
   "codemirror_mode": {
    "name": "ipython",
    "version": 3
   },
   "file_extension": ".py",
   "mimetype": "text/x-python",
   "name": "python",
   "nbconvert_exporter": "python",
   "pygments_lexer": "ipython3",
   "version": "3.10.0"
  }
 },
 "nbformat": 4,
 "nbformat_minor": 2
}
